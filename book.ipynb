{
 "cells": [
  {
   "cell_type": "code",
   "execution_count": 9,
   "metadata": {},
   "outputs": [],
   "source": [
    "fn = './price data/price_aapl.csv'"
   ]
  },
  {
   "cell_type": "code",
   "execution_count": 10,
   "metadata": {},
   "outputs": [
    {
     "name": "stdout",
     "output_type": "stream",
     "text": [
      "Date,Open,High,Low,Close,Volume,Dividends,Stock Splits\n",
      "1980-12-12,0.10003949701786041,0.10047442721464797,0.10003949701786041,0.10003949701786041,469033600,0.0,0.0\n",
      "1980-12-15,0.09525529546064482,0.09525529546064482,0.09482036530971527,0.09482036530971527,175884800,0.0,0.0\n",
      "1980-12-16,0.08829568747550257,0.08829568747550257,0.08786076307296753,0.08786076307296753,105728000,0.0,0.0\n",
      "1980-12-17,0.09003538638353348,0.09047031654350933,0.09003538638353348,0.09003538638353348,86441600,0.0,0.0\n"
     ]
    }
   ],
   "source": [
    "with open(fn, \"r\") as f:\n",
    "    for _ in range(5):\n",
    "        print(f.readline(), end=\"\")"
   ]
  },
  {
   "cell_type": "code",
   "execution_count": 12,
   "metadata": {},
   "outputs": [
    {
     "data": {
      "text/plain": [
       "[['Date',\n",
       "  'Open',\n",
       "  'High',\n",
       "  'Low',\n",
       "  'Close',\n",
       "  'Volume',\n",
       "  'Dividends',\n",
       "  'Stock Splits'],\n",
       " ['1980-12-12',\n",
       "  '0.10003949701786041',\n",
       "  '0.10047442721464797',\n",
       "  '0.10003949701786041',\n",
       "  '0.10003949701786041',\n",
       "  '469033600',\n",
       "  '0.0',\n",
       "  '0.0'],\n",
       " ['1980-12-15',\n",
       "  '0.09525529546064482',\n",
       "  '0.09525529546064482',\n",
       "  '0.09482036530971527',\n",
       "  '0.09482036530971527',\n",
       "  '175884800',\n",
       "  '0.0',\n",
       "  '0.0'],\n",
       " ['1980-12-16',\n",
       "  '0.08829568747550257',\n",
       "  '0.08829568747550257',\n",
       "  '0.08786076307296753',\n",
       "  '0.08786076307296753',\n",
       "  '105728000',\n",
       "  '0.0',\n",
       "  '0.0'],\n",
       " ['1980-12-17',\n",
       "  '0.09003538638353348',\n",
       "  '0.09047031654350933',\n",
       "  '0.09003538638353348',\n",
       "  '0.09003538638353348',\n",
       "  '86441600',\n",
       "  '0.0',\n",
       "  '0.0']]"
      ]
     },
     "execution_count": 12,
     "metadata": {},
     "output_type": "execute_result"
    }
   ],
   "source": [
    "import csv \n",
    "\n",
    "csv_reader = csv.reader(open(fn, 'r'))\n",
    "data = list(csv_reader)\n",
    "data[:5]"
   ]
  },
  {
   "cell_type": "code",
   "execution_count": null,
   "metadata": {},
   "outputs": [],
   "source": []
  }
 ],
 "metadata": {
  "kernelspec": {
   "display_name": "Python 3.9.13 64-bit",
   "language": "python",
   "name": "python3"
  },
  "language_info": {
   "codemirror_mode": {
    "name": "ipython",
    "version": 3
   },
   "file_extension": ".py",
   "mimetype": "text/x-python",
   "name": "python",
   "nbconvert_exporter": "python",
   "pygments_lexer": "ipython3",
   "version": "3.9.13"
  },
  "orig_nbformat": 4,
  "vscode": {
   "interpreter": {
    "hash": "830e29a05e99432a5e5c7e3ba7ae5e3cc536f1d8491fb461527f0fefb50916ef"
   }
  }
 },
 "nbformat": 4,
 "nbformat_minor": 2
}
