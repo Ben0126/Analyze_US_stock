{
 "cells": [
  {
   "cell_type": "markdown",
   "metadata": {},
   "source": [
    "### [Automate your stock screening using Python](https://levelup.gitconnected.com/automate-your-stock-screening-using-python-9107dda724c3)"
   ]
  },
  {
   "cell_type": "markdown",
   "metadata": {},
   "source": [
    "1. 定義交易策略 <br>\n",
    "2. 進行篩選 <br>\n",
    "3. 自動化流程"
   ]
  },
  {
   "cell_type": "markdown",
   "metadata": {},
   "source": [
    "#### 第 1 部分：定義交易策略\n",
    "簡單的EMA（指數移動平均線）反彈策略。顧名思義，我們試圖在 EMA 趨勢線上找到反彈，例如 50 天 EMA。"
   ]
  },
  {
   "cell_type": "markdown",
   "metadata": {},
   "source": [
    "1. 總體趨勢是上升趨勢：18 天 EMA > 50 天 EMA > 100 天 EMA\n",
    "2. 隨機震盪指標 (5 , 3, 3) 低於 30，表明股票超賣。\n",
    "3. 前一根蠟燭（蠟燭 2）的低點低於 EMA 50；收盤價高於 EMA 50；最後一根蠟燭（蠟燭 1）的低點高於 EMA 50。"
   ]
  },
  {
   "cell_type": "markdown",
   "metadata": {},
   "source": [
    "#### 第 2 部分：執行篩選"
   ]
  },
  {
   "cell_type": "code",
   "execution_count": 1,
   "metadata": {},
   "outputs": [
    {
     "name": "stdout",
     "output_type": "stream",
     "text": [
      "[*********************100%***********************]  1 of 1 completed\n",
      "                  Open        High         Low       Close   Adj Close  \\\n",
      "Date                                                                     \n",
      "2019-12-31   72.482498   73.419998   72.379997   73.412498   72.039879   \n",
      "2020-01-02   74.059998   75.150002   73.797501   75.087502   73.683556   \n",
      "2020-01-03   74.287498   75.144997   74.125000   74.357498   72.967209   \n",
      "2020-01-06   73.447502   74.989998   73.187500   74.949997   73.548615   \n",
      "2020-01-07   74.959999   75.224998   74.370003   74.597504   73.202728   \n",
      "...                ...         ...         ...         ...         ...   \n",
      "2022-08-29  161.149994  162.899994  159.820007  161.380005  161.380005   \n",
      "2022-08-30  162.130005  162.559998  157.720001  158.910004  158.910004   \n",
      "2022-08-31  160.309998  160.580002  157.139999  157.220001  157.220001   \n",
      "2022-09-01  156.639999  158.419998  154.669998  157.960007  157.960007   \n",
      "2022-09-02  159.750000  160.360001  154.970001  155.809998  155.809998   \n",
      "\n",
      "               Volume  \n",
      "Date                   \n",
      "2019-12-31  100805600  \n",
      "2020-01-02  135480400  \n",
      "2020-01-03  146322800  \n",
      "2020-01-06  118387200  \n",
      "2020-01-07  108872000  \n",
      "...               ...  \n",
      "2022-08-29   73314000  \n",
      "2022-08-30   77906200  \n",
      "2022-08-31   87991100  \n",
      "2022-09-01   74229900  \n",
      "2022-09-02   76905200  \n",
      "\n",
      "[675 rows x 6 columns]\n"
     ]
    }
   ],
   "source": [
    "import yfinance as yf \n",
    "data = yf.download(\"AAPL\", start=\"2020-01-01\") \n",
    "print(data)"
   ]
  },
  {
   "cell_type": "code",
   "execution_count": 2,
   "metadata": {},
   "outputs": [],
   "source": [
    "import requests\n",
    "from bs4 import BeautifulSoup\n",
    "\n",
    "def get_stock_list():\n",
    "  # this is the website we're going to scrape from\n",
    "  url = \"https://www.malaysiastock.biz/Stock-Screener.aspx\"\n",
    "  response = requests.get(url, headers={'User-Agent':'test'})\n",
    "  soup = BeautifulSoup(response.content, \"html.parser\")\n",
    "  table = soup.find(id = \"MainContent2_tbAllStock\")\n",
    "  # return the result (only ticker code) in a list\n",
    "  stock_list = table.find_all('a')\n",
    "  return [stock_code.get('href')[-4:] for stock_code in stock_list]"
   ]
  },
  {
   "cell_type": "code",
   "execution_count": 3,
   "metadata": {},
   "outputs": [
    {
     "name": "stdout",
     "output_type": "stream",
     "text": [
      "1004\n"
     ]
    }
   ],
   "source": [
    "stock_list = get_stock_list()\n",
    "print(len(stock_list))"
   ]
  },
  {
   "cell_type": "markdown",
   "metadata": {},
   "source": [
    "#### 2.3 創建技術指標\n",
    "18 天 EMA、50 天 EMA、100 天 EMA 和隨機震盪指標(5, 3, 3)"
   ]
  },
  {
   "cell_type": "code",
   "execution_count": 5,
   "metadata": {},
   "outputs": [
    {
     "name": "stdout",
     "output_type": "stream",
     "text": [
      "[*********************100%***********************]  1 of 1 completed\n"
     ]
    }
   ],
   "source": [
    "def get_stock_price(ticker):\n",
    "  data = yf.download(ticker, start=\"2021-01-01\")\n",
    "  return data\n",
    "\n",
    "def add_EMA(price, day):\n",
    "  return price.ewm(span=day).mean()\n",
    "\n",
    "def add_STOCH(close, low, high, period, k, d=0): \n",
    "    STOCH_K = ((close - low.rolling(window=period).min()) / (high.rolling(window=period).max() - low.rolling(window=period).min())) * 100\n",
    "    STOCH_K = STOCH_K.rolling(window=k).mean()\n",
    "    if d == 0:\n",
    "      return STOCH_K\n",
    "    else:\n",
    "      STOCH_D = STOCH_K.rolling(window=d).mean()\n",
    "      return STOCH_D\n",
    "\n",
    "stock_code = \"SPY\"\n",
    "price_chart_df = get_stock_price(stock_code ) # + \".KL\"\n",
    "\n",
    "open = price_chart_df['Open']\n",
    "close = price_chart_df['Close']\n",
    "high = price_chart_df['High']\n",
    "low = price_chart_df['Low']\n",
    "price_chart_df['EMA18'] = add_EMA(close,18)\n",
    "price_chart_df['EMA50'] = add_EMA(close,50)\n",
    "price_chart_df['EMA100'] = add_EMA(close,100)\n",
    "price_chart_df['STOCH_%K(5,3,3)'] = add_STOCH(close, low, high, 5, 3)\n",
    "price_chart_df['STOCH_%D(5,3,3)'] = add_STOCH(close, low, high, 5, 3, 3)"
   ]
  },
  {
   "cell_type": "code",
   "execution_count": 6,
   "metadata": {},
   "outputs": [
    {
     "name": "stdout",
     "output_type": "stream",
     "text": [
      "False\n"
     ]
    }
   ],
   "source": [
    "# function to check for EMA Bounce\n",
    "def check_bounce_EMA(df):\n",
    "  candle1 = df.iloc[-1]\n",
    "  candle2 = df.iloc[-2]\n",
    "  cond1 = candle1['EMA18'] > candle1['EMA50'] > candle1['EMA100']\n",
    "  cond2 = candle1['STOCH_%K(5,3,3)'] <= 30 or candle1['STOCH_%D(5,3,3)'] <= 30\n",
    "  cond3 = candle2['Low'] < candle2['EMA50'] and \\\n",
    "          candle2['Close'] > candle2['EMA50'] and \\\n",
    "          candle1['Low'] > candle1 ['EMA50']\n",
    "  return cond1 and cond2 and cond3\n",
    "\n",
    "# price_chart_df is from Section 2.3\n",
    "print(check_bounce_EMA(price_chart_df))"
   ]
  },
  {
   "cell_type": "markdown",
   "metadata": {},
   "source": [
    "#### 第 3 部分：自動化流程"
   ]
  },
  {
   "cell_type": "code",
   "execution_count": null,
   "metadata": {},
   "outputs": [],
   "source": [
    "import email\n",
    "# you can add this part of code at the end of part 2\n",
    "# remember: screened_list contains the result of the screening\n",
    "# configure email and message\n",
    "msg = email.message_from_string(\", \".join(screened_list))\n",
    "msg['From'] = 'benzyeh@gmail.com'\n",
    "msg['To'] = 'benzyeh@gmail.com'\n",
    "msg['Subject'] = \"EMA Bounce Result for Today!\"\n",
    "\n",
    "s = smtplib.SMTP(\"smtp.gmail.com\",587)\n",
    "## for yahoo mail user: s = smtplib.SMTP(\"smtp.mail.yahoo.com\",587) \n",
    "## for hotmail user: s = smtplib.SMTP(\"smtp.live.com\",587)\n",
    "s.ehlo() \n",
    "s.starttls()\n",
    "s.ehlo()\n",
    "s.login(email_from,\"YOUR_PASSWORD\")\n",
    "s.sendmail(email_from, [email_to] + [email_cc], msg.as_string())\n",
    "s.quit()"
   ]
  }
 ],
 "metadata": {
  "kernelspec": {
   "display_name": "Python 3.9.13 64-bit",
   "language": "python",
   "name": "python3"
  },
  "language_info": {
   "codemirror_mode": {
    "name": "ipython",
    "version": 3
   },
   "file_extension": ".py",
   "mimetype": "text/x-python",
   "name": "python",
   "nbconvert_exporter": "python",
   "pygments_lexer": "ipython3",
   "version": "3.9.13"
  },
  "orig_nbformat": 4,
  "vscode": {
   "interpreter": {
    "hash": "830e29a05e99432a5e5c7e3ba7ae5e3cc536f1d8491fb461527f0fefb50916ef"
   }
  }
 },
 "nbformat": 4,
 "nbformat_minor": 2
}
