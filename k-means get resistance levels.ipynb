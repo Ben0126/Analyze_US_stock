{
 "cells": [
  {
   "attachments": {},
   "cell_type": "markdown",
   "metadata": {},
   "source": [
    "### [Using Machine Learning to programmatically determine Stock Support and Resistance Levels](https://medium.com/@judopro/using-machine-learning-to-programmatically-determine-stock-support-and-resistance-levels-9bb70777cf8e)"
   ]
  },
  {
   "cell_type": "code",
   "execution_count": null,
   "metadata": {},
   "outputs": [],
   "source": [
    "import datetime\n",
    "import pytz\n",
    "from sklearn.cluster import KMeans\n",
    "from matplotlib import pyplot as plt\n",
    "import matplotlib.ticker as mpticker\n",
    "import pandas\n",
    "import numpy\n",
    "import warnings\n",
    "\n",
    "from mpl_finance import candlestick_ohlc\n",
    "import yfinance as yf\n",
    "yf.pdr_override()"
   ]
  },
  {
   "cell_type": "code",
   "execution_count": null,
   "metadata": {},
   "outputs": [],
   "source": [
    "def get_optimum_clusters(df, saturation_point=0.05):\n",
    "    '''\n",
    "    :param df: dataframe\n",
    "    :param saturation_point: The amount of difference we are willing to detect\n",
    "    :return: clusters with optimum K centers\n",
    "    This method uses elbow method to find the optimum number of K clusters\n",
    "    We initialize different K-means with 1..10 centers and compare the inertias\n",
    "    If the difference is no more than saturation_point, we choose that as K and move on\n",
    "    '''\n",
    "\n",
    "    wcss = []\n",
    "    k_models = []\n",
    "\n",
    "    size = min(11, len(df.index))\n",
    "    for i in range(1, size):\n",
    "        kmeans = KMeans(n_clusters=i, init='k-means++', max_iter=300, n_init=10, random_state=0)\n",
    "        kmeans.fit(df)\n",
    "        wcss.append(kmeans.inertia_)\n",
    "        k_models.append(kmeans)\n",
    "\n",
    "    # Compare differences in inertias until it's no more than saturation_point\n",
    "    optimum_k = len(wcss)-1\n",
    "    for i in range(0, len(wcss)-1):\n",
    "        diff = abs(wcss[i+1] - wcss[i])\n",
    "        if diff < saturation_point:\n",
    "            optimum_k = i\n",
    "            break\n",
    "\n",
    "    print(\"Optimum K is \" + str(optimum_k + 1))\n",
    "    optimum_clusters = k_models[optimum_k]\n",
    "\n",
    "    return optimum_clusters\n"
   ]
  },
  {
   "cell_type": "code",
   "execution_count": null,
   "metadata": {},
   "outputs": [],
   "source": [
    "def plot_stock_data(data):\n",
    "    fig, ax = plt.subplots(figsize=(16, 9))\n",
    "    ax1 = plt.subplot2grid((5,1), (0,0), rowspan=4)\n",
    "    ax2 = plt.subplot2grid((5,1), (4,0), sharex=ax1)\n",
    "\n",
    "    ax1.set_title(\"{} - {}\".format(symbol, start))\n",
    "    ax1.set_facecolor(\"#131722\")\n",
    "    ax1.xaxis.set_major_formatter(mpticker.FuncFormatter(mydate))\n",
    "\n",
    "    candlestick_ohlc(ax1, data.to_numpy(), width=8, colorup='#77d879', colordown='#db3f3f')\n",
    "\n",
    "    ax2.bar(data['Time'], data['Volume'], width=30)\n",
    "    ax2.xaxis.set_major_formatter(mpticker.FuncFormatter(mydate))\n",
    "    fig.subplots_adjust(hspace=0)\n",
    "    fig.autofmt_xdate()\n",
    "    return ax1"
   ]
  },
  {
   "cell_type": "code",
   "execution_count": null,
   "metadata": {},
   "outputs": [],
   "source": [
    "def mydate(x,pos):\n",
    "    try:\n",
    "        return datetime.datetime.fromtimestamp(x, tz=est).strftime(date_format)\n",
    "    except IndexError:\n",
    "        return ''"
   ]
  },
  {
   "cell_type": "code",
   "execution_count": null,
   "metadata": {},
   "outputs": [],
   "source": [
    "symbol = \"SPY\"\n",
    "start = \"2022-09-09\"\n",
    "end = \"2022-09-13\"\n",
    "est = pytz.timezone('US/Eastern')\n",
    "date_format = \"%H:%M\"\n",
    "\n",
    "ticker = yf.Ticker(symbol)\n",
    "data = ticker.history(period=\"1d\", interval=\"1d\",start=start, end=end, prepost=False, actions=False)\n",
    "data = data[:120] #30 1M candles\n",
    "\n",
    "data[\"Time\"] = [d.timestamp() for d in data.index]\n",
    "data.Time = data.Time.tz_convert(est)\n",
    "data = data[[\"Time\", \"Open\", \"High\", \"Low\", \"Close\", \"Volume\"]]\n",
    "\n",
    "ax = plot_stock_data(data)\n",
    "\n",
    "\n",
    "lod, hod = 0, 0\n",
    "\n",
    "lows = pandas.DataFrame(data=data, index=data.index, columns=[\"Low\"])\n",
    "highs = pandas.DataFrame(data=data, index=data.index, columns=[\"High\"])\n",
    "\n",
    "low_clusters = get_optimum_clusters(lows)\n",
    "low_centers = low_clusters.cluster_centers_\n",
    "low_centers = numpy.sort(low_centers, axis=0)\n",
    "\n",
    "high_clusters = get_optimum_clusters(highs)\n",
    "high_centers = high_clusters.cluster_centers_\n",
    "high_centers = numpy.sort(high_centers, axis=0)\n",
    "\n",
    "for low in low_centers[:2]:\n",
    "    ax.axhline(low[0], color='yellow', ls='--')\n",
    "\n",
    "for high in high_centers[-1:]:\n",
    "    ax.axhline(high[0], color='orange', ls='--')\n",
    "\n",
    "plt.show()\n",
    "\n",
    "print(data)\n",
    "print(low_centers)\n",
    "print(high_centers)"
   ]
  }
 ],
 "metadata": {
  "kernelspec": {
   "display_name": "Python 3.9.12 ('Learning_PY')",
   "language": "python",
   "name": "python3"
  },
  "language_info": {
   "codemirror_mode": {
    "name": "ipython",
    "version": 3
   },
   "file_extension": ".py",
   "mimetype": "text/x-python",
   "name": "python",
   "nbconvert_exporter": "python",
   "pygments_lexer": "ipython3",
   "version": "3.9.16"
  },
  "orig_nbformat": 4,
  "vscode": {
   "interpreter": {
    "hash": "c7f2880d10652d500a9c722ddc310138401d72ab0e68831a21dda226a38dfc4d"
   }
  }
 },
 "nbformat": 4,
 "nbformat_minor": 2
}
