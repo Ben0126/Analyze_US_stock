{
 "cells": [
  {
   "cell_type": "markdown",
   "metadata": {
    "pycharm": {
     "name": "#%% md\n"
    }
   },
   "source": [
    "抓取S&P 500 指數ETF => SPY"
   ]
  },
  {
   "cell_type": "code",
   "execution_count": 22,
   "metadata": {
    "pycharm": {
     "name": "#%%\n"
    }
   },
   "outputs": [],
   "source": [
    "import yfinance as yf\n",
    "\n",
    "stk = yf.Ticker('VOO')\n",
    "# 取得 1995 年至今的資料\n",
    "data = stk.history(start = '1995-01-01')\n",
    "# 簡化資料，只取開、高、低、收以及成交量\n",
    "data = data[['Open', 'High', 'Low', 'Close', 'Volume']]"
   ]
  },
  {
   "cell_type": "code",
   "execution_count": 23,
   "metadata": {
    "pycharm": {
     "name": "#%%\n"
    }
   },
   "outputs": [
    {
     "data": {
      "text/html": [
       "<div>\n",
       "<style scoped>\n",
       "    .dataframe tbody tr th:only-of-type {\n",
       "        vertical-align: middle;\n",
       "    }\n",
       "\n",
       "    .dataframe tbody tr th {\n",
       "        vertical-align: top;\n",
       "    }\n",
       "\n",
       "    .dataframe thead th {\n",
       "        text-align: right;\n",
       "    }\n",
       "</style>\n",
       "<table border=\"1\" class=\"dataframe\">\n",
       "  <thead>\n",
       "    <tr style=\"text-align: right;\">\n",
       "      <th></th>\n",
       "      <th>open</th>\n",
       "      <th>high</th>\n",
       "      <th>low</th>\n",
       "      <th>close</th>\n",
       "      <th>volume</th>\n",
       "      <th>macd</th>\n",
       "      <th>macdsignal</th>\n",
       "      <th>macdhist</th>\n",
       "      <th>rsi</th>\n",
       "      <th>mom</th>\n",
       "      <th>slowk</th>\n",
       "      <th>slowd</th>\n",
       "    </tr>\n",
       "    <tr>\n",
       "      <th>key_0</th>\n",
       "      <th></th>\n",
       "      <th></th>\n",
       "      <th></th>\n",
       "      <th></th>\n",
       "      <th></th>\n",
       "      <th></th>\n",
       "      <th></th>\n",
       "      <th></th>\n",
       "      <th></th>\n",
       "      <th></th>\n",
       "      <th></th>\n",
       "      <th></th>\n",
       "    </tr>\n",
       "  </thead>\n",
       "  <tbody>\n",
       "    <tr>\n",
       "      <th>2010-09-09</th>\n",
       "      <td>81.687249</td>\n",
       "      <td>81.687249</td>\n",
       "      <td>80.603398</td>\n",
       "      <td>80.746849</td>\n",
       "      <td>26500</td>\n",
       "      <td>NaN</td>\n",
       "      <td>NaN</td>\n",
       "      <td>NaN</td>\n",
       "      <td>NaN</td>\n",
       "      <td>NaN</td>\n",
       "      <td>NaN</td>\n",
       "      <td>NaN</td>\n",
       "    </tr>\n",
       "    <tr>\n",
       "      <th>2010-09-10</th>\n",
       "      <td>81.033763</td>\n",
       "      <td>81.177214</td>\n",
       "      <td>80.730925</td>\n",
       "      <td>81.113457</td>\n",
       "      <td>8600</td>\n",
       "      <td>NaN</td>\n",
       "      <td>NaN</td>\n",
       "      <td>NaN</td>\n",
       "      <td>NaN</td>\n",
       "      <td>NaN</td>\n",
       "      <td>NaN</td>\n",
       "      <td>NaN</td>\n",
       "    </tr>\n",
       "    <tr>\n",
       "      <th>2010-09-13</th>\n",
       "      <td>82.053859</td>\n",
       "      <td>82.197310</td>\n",
       "      <td>81.687263</td>\n",
       "      <td>82.133553</td>\n",
       "      <td>33750</td>\n",
       "      <td>NaN</td>\n",
       "      <td>NaN</td>\n",
       "      <td>NaN</td>\n",
       "      <td>NaN</td>\n",
       "      <td>NaN</td>\n",
       "      <td>NaN</td>\n",
       "      <td>NaN</td>\n",
       "    </tr>\n",
       "    <tr>\n",
       "      <th>2010-09-14</th>\n",
       "      <td>81.958237</td>\n",
       "      <td>82.468290</td>\n",
       "      <td>81.591641</td>\n",
       "      <td>82.117630</td>\n",
       "      <td>59400</td>\n",
       "      <td>NaN</td>\n",
       "      <td>NaN</td>\n",
       "      <td>NaN</td>\n",
       "      <td>NaN</td>\n",
       "      <td>NaN</td>\n",
       "      <td>NaN</td>\n",
       "      <td>NaN</td>\n",
       "    </tr>\n",
       "    <tr>\n",
       "      <th>2010-09-15</th>\n",
       "      <td>81.782888</td>\n",
       "      <td>82.388565</td>\n",
       "      <td>81.607559</td>\n",
       "      <td>82.324814</td>\n",
       "      <td>9250</td>\n",
       "      <td>NaN</td>\n",
       "      <td>NaN</td>\n",
       "      <td>NaN</td>\n",
       "      <td>NaN</td>\n",
       "      <td>NaN</td>\n",
       "      <td>NaN</td>\n",
       "      <td>NaN</td>\n",
       "    </tr>\n",
       "    <tr>\n",
       "      <th>...</th>\n",
       "      <td>...</td>\n",
       "      <td>...</td>\n",
       "      <td>...</td>\n",
       "      <td>...</td>\n",
       "      <td>...</td>\n",
       "      <td>...</td>\n",
       "      <td>...</td>\n",
       "      <td>...</td>\n",
       "      <td>...</td>\n",
       "      <td>...</td>\n",
       "      <td>...</td>\n",
       "      <td>...</td>\n",
       "    </tr>\n",
       "    <tr>\n",
       "      <th>2022-08-12</th>\n",
       "      <td>387.950012</td>\n",
       "      <td>392.720001</td>\n",
       "      <td>387.089996</td>\n",
       "      <td>392.670013</td>\n",
       "      <td>3662800</td>\n",
       "      <td>7.675218</td>\n",
       "      <td>6.103988</td>\n",
       "      <td>1.571231</td>\n",
       "      <td>72.152086</td>\n",
       "      <td>13.880005</td>\n",
       "      <td>88.465108</td>\n",
       "      <td>69.989355</td>\n",
       "    </tr>\n",
       "    <tr>\n",
       "      <th>2022-08-15</th>\n",
       "      <td>390.489990</td>\n",
       "      <td>394.760010</td>\n",
       "      <td>390.459991</td>\n",
       "      <td>394.350006</td>\n",
       "      <td>3203900</td>\n",
       "      <td>8.240412</td>\n",
       "      <td>6.531273</td>\n",
       "      <td>1.709140</td>\n",
       "      <td>73.125777</td>\n",
       "      <td>16.700012</td>\n",
       "      <td>88.276065</td>\n",
       "      <td>79.738733</td>\n",
       "    </tr>\n",
       "    <tr>\n",
       "      <th>2022-08-16</th>\n",
       "      <td>393.239990</td>\n",
       "      <td>396.890015</td>\n",
       "      <td>392.440002</td>\n",
       "      <td>395.040009</td>\n",
       "      <td>3864800</td>\n",
       "      <td>8.644363</td>\n",
       "      <td>6.953891</td>\n",
       "      <td>1.690473</td>\n",
       "      <td>73.535063</td>\n",
       "      <td>19.830017</td>\n",
       "      <td>94.647590</td>\n",
       "      <td>90.462921</td>\n",
       "    </tr>\n",
       "    <tr>\n",
       "      <th>2022-08-17</th>\n",
       "      <td>391.559998</td>\n",
       "      <td>394.850006</td>\n",
       "      <td>390.290009</td>\n",
       "      <td>392.339996</td>\n",
       "      <td>3222300</td>\n",
       "      <td>8.646952</td>\n",
       "      <td>7.292503</td>\n",
       "      <td>1.354449</td>\n",
       "      <td>69.100294</td>\n",
       "      <td>11.269989</td>\n",
       "      <td>81.554352</td>\n",
       "      <td>88.159336</td>\n",
       "    </tr>\n",
       "    <tr>\n",
       "      <th>2022-08-18</th>\n",
       "      <td>392.420013</td>\n",
       "      <td>394.019989</td>\n",
       "      <td>391.170013</td>\n",
       "      <td>393.549988</td>\n",
       "      <td>3250900</td>\n",
       "      <td>8.646964</td>\n",
       "      <td>7.563395</td>\n",
       "      <td>1.083568</td>\n",
       "      <td>69.974215</td>\n",
       "      <td>12.779999</td>\n",
       "      <td>70.967621</td>\n",
       "      <td>82.389854</td>\n",
       "    </tr>\n",
       "  </tbody>\n",
       "</table>\n",
       "<p>3007 rows × 12 columns</p>\n",
       "</div>"
      ],
      "text/plain": [
       "                  open        high         low       close   volume      macd  \\\n",
       "key_0                                                                           \n",
       "2010-09-09   81.687249   81.687249   80.603398   80.746849    26500       NaN   \n",
       "2010-09-10   81.033763   81.177214   80.730925   81.113457     8600       NaN   \n",
       "2010-09-13   82.053859   82.197310   81.687263   82.133553    33750       NaN   \n",
       "2010-09-14   81.958237   82.468290   81.591641   82.117630    59400       NaN   \n",
       "2010-09-15   81.782888   82.388565   81.607559   82.324814     9250       NaN   \n",
       "...                ...         ...         ...         ...      ...       ...   \n",
       "2022-08-12  387.950012  392.720001  387.089996  392.670013  3662800  7.675218   \n",
       "2022-08-15  390.489990  394.760010  390.459991  394.350006  3203900  8.240412   \n",
       "2022-08-16  393.239990  396.890015  392.440002  395.040009  3864800  8.644363   \n",
       "2022-08-17  391.559998  394.850006  390.290009  392.339996  3222300  8.646952   \n",
       "2022-08-18  392.420013  394.019989  391.170013  393.549988  3250900  8.646964   \n",
       "\n",
       "            macdsignal  macdhist        rsi        mom      slowk      slowd  \n",
       "key_0                                                                         \n",
       "2010-09-09         NaN       NaN        NaN        NaN        NaN        NaN  \n",
       "2010-09-10         NaN       NaN        NaN        NaN        NaN        NaN  \n",
       "2010-09-13         NaN       NaN        NaN        NaN        NaN        NaN  \n",
       "2010-09-14         NaN       NaN        NaN        NaN        NaN        NaN  \n",
       "2010-09-15         NaN       NaN        NaN        NaN        NaN        NaN  \n",
       "...                ...       ...        ...        ...        ...        ...  \n",
       "2022-08-12    6.103988  1.571231  72.152086  13.880005  88.465108  69.989355  \n",
       "2022-08-15    6.531273  1.709140  73.125777  16.700012  88.276065  79.738733  \n",
       "2022-08-16    6.953891  1.690473  73.535063  19.830017  94.647590  90.462921  \n",
       "2022-08-17    7.292503  1.354449  69.100294  11.269989  81.554352  88.159336  \n",
       "2022-08-18    7.563395  1.083568  69.974215  12.779999  70.967621  82.389854  \n",
       "\n",
       "[3007 rows x 12 columns]"
      ]
     },
     "execution_count": 23,
     "metadata": {},
     "output_type": "execute_result"
    }
   ],
   "source": [
    "import pandas as pd\n",
    "from talib import abstract\n",
    "\n",
    "# 改成 TA-Lib 可以辨識的欄位名稱\n",
    "data.columns = ['open','high','low','close','volume']\n",
    "# 隨意試試看這幾個因子好了 [指數平滑異同移動平均線, 相對強弱指數, 運動量指標, KD指標]\n",
    "ta_list = ['MACD','RSI','MOM','STOCH']\n",
    "# 快速計算與整理因子\n",
    "for x in ta_list:\n",
    "    output = eval('abstract.'+x+'(data)')\n",
    "    output.name = x.lower() if type(output) == pd.core.series.Series else None\n",
    "    data = pd.merge(data, pd.DataFrame(output), left_on = data.index, right_on = output.index)\n",
    "    data = data.set_index('key_0')\n",
    "\n",
    "data"
   ]
  },
  {
   "cell_type": "markdown",
   "metadata": {
    "pycharm": {
     "name": "#%% md\n"
    }
   },
   "source": [
    "標記預測目標 : 預測一週後（五交易日後）收盤價相對今日收盤價是漲或跌\n",
    "漲：1 跌：0"
   ]
  },
  {
   "cell_type": "code",
   "execution_count": 24,
   "metadata": {
    "pycharm": {
     "name": "#%%\n"
    }
   },
   "outputs": [],
   "source": [
    "import numpy as np\n",
    "\n",
    "# 五日後漲標記 1，反之標記 0\n",
    "data['week_trend'] = np.where(data.close.shift(-5) > data.close, 1, 0)"
   ]
  },
  {
   "cell_type": "markdown",
   "metadata": {
    "pycharm": {
     "name": "#%% md\n"
    }
   },
   "source": [
    "視覺化標記後之圖型"
   ]
  },
  {
   "cell_type": "code",
   "execution_count": 25,
   "metadata": {
    "pycharm": {
     "name": "#%%\n"
    }
   },
   "outputs": [
    {
     "name": "stderr",
     "output_type": "stream",
     "text": [
      "C:\\Users\\SPY\\AppData\\Local\\Temp\\ipykernel_31088\\902117209.py:5: FutureWarning: Indexing a DataFrame with a datetimelike index using a single string to slice the rows, like `frame[string]`, is deprecated and will be removed in a future version. Use `frame.loc[string]` instead.\n",
      "  df = data['2020'].copy()\n",
      "C:\\Users\\SPY\\AppData\\Local\\Temp\\ipykernel_31088\\902117209.py:12: UserWarning: color is redundantly defined by the 'color' keyword argument and the fmt string \"b-\" (-> color='b'). The keyword argument will take precedence.\n",
      "  ax.plot_date(t, y, 'b-', color = 'black')\n"
     ]
    },
    {
     "data": {
      "image/png": "[encoded data removed]",
      "text/plain": [
       "<Figure size 1440x756 with 1 Axes>"
      ]
     },
     "metadata": {
      "needs_background": "light"
     },
     "output_type": "display_data"
    }
   ],
   "source": [
    "import matplotlib.pyplot as plt\n",
    "import matplotlib.dates as mdates\n",
    "import datetime as dt\n",
    "\n",
    "df = data['2020'].copy()\n",
    "df = df.resample('D').ffill()\n",
    "\n",
    "t = mdates.drange(df.index[0], df.index[-1], dt.timedelta(hours = 24))\n",
    "y = np.array(df.close[:-1])\n",
    "\n",
    "fig, ax = plt.subplots()\n",
    "ax.plot_date(t, y, 'b-', color = 'black')\n",
    "for i in range(len(df)):\n",
    "    if df.week_trend[i] == 1:\n",
    "        ax.axvspan(\n",
    "            mdates.datestr2num(df.index[i].strftime('%Y-%m-%d')) - 0.5,\n",
    "            mdates.datestr2num(df.index[i].strftime('%Y-%m-%d')) + 0.5,\n",
    "            facecolor = 'red', edgecolor = 'none', alpha = 0.5\n",
    "        )\n",
    "    else:\n",
    "        ax.axvspan(\n",
    "            mdates.datestr2num(df.index[i].strftime('%Y-%m-%d')) - 0.5,\n",
    "            mdates.datestr2num(df.index[i].strftime('%Y-%m-%d')) + 0.5,\n",
    "            facecolor = 'green', edgecolor = 'none', alpha = 0.5\n",
    "        )\n",
    "fig.autofmt_xdate()\n",
    "fig.set_size_inches(20, 10.5)\n",
    "fig.savefig('define_y.png')"
   ]
  },
  {
   "cell_type": "markdown",
   "metadata": {
    "pycharm": {
     "name": "#%% md\n"
    }
   },
   "source": [
    "資料預處理"
   ]
  },
  {
   "cell_type": "code",
   "execution_count": 34,
   "metadata": {
    "pycharm": {
     "name": "#%%\n"
    }
   },
   "outputs": [
    {
     "data": {
      "text/plain": [
       "open          0\n",
       "high          0\n",
       "low           0\n",
       "close         0\n",
       "volume        0\n",
       "macd          0\n",
       "macdsignal    0\n",
       "macdhist      0\n",
       "rsi           0\n",
       "mom           0\n",
       "slowk         0\n",
       "slowd         0\n",
       "week_trend    0\n",
       "dtype: int64"
      ]
     },
     "execution_count": 34,
     "metadata": {},
     "output_type": "execute_result"
    }
   ],
   "source": [
    "# 檢查資料有無缺值\n",
    "data.isnull().sum()"
   ]
  },
  {
   "cell_type": "code",
   "execution_count": 35,
   "metadata": {
    "pycharm": {
     "name": "#%%\n"
    }
   },
   "outputs": [
    {
     "data": {
      "text/plain": [
       "open          0\n",
       "high          0\n",
       "low           0\n",
       "close         0\n",
       "volume        0\n",
       "macd          0\n",
       "macdsignal    0\n",
       "macdhist      0\n",
       "rsi           0\n",
       "mom           0\n",
       "slowk         0\n",
       "slowd         0\n",
       "week_trend    0\n",
       "dtype: int64"
      ]
     },
     "execution_count": 35,
     "metadata": {},
     "output_type": "execute_result"
    }
   ],
   "source": [
    "# 最簡單的作法是把有缺值的資料整列拿掉\n",
    "data = data.dropna()\n",
    "data.isnull().sum()"
   ]
  },
  {
   "cell_type": "markdown",
   "metadata": {
    "pycharm": {
     "name": "#%% md\n"
    }
   },
   "source": [
    "訓練 / 測試樣本切割"
   ]
  },
  {
   "cell_type": "code",
   "execution_count": 36,
   "metadata": {
    "pycharm": {
     "name": "#%%\n"
    }
   },
   "outputs": [],
   "source": [
    "# 決定切割比例為 70%:30%\n",
    "split_point = int(len(data)*0.7)\n",
    "# 切割成學習樣本以及測試樣本\n",
    "train = data.iloc[:split_point,:].copy()\n",
    "# 預測目標是 5 日後的漲跌，所以測試樣本中的最後五筆資料是還沒有正確答案的！\n",
    "test = data.iloc[split_point:-5,:].copy()"
   ]
  },
  {
   "cell_type": "code",
   "execution_count": 37,
   "metadata": {
    "pycharm": {
     "name": "#%%\n"
    }
   },
   "outputs": [],
   "source": [
    "# 訓練樣本再分成目標序列 y 以及因子矩陣 X\n",
    "train_X = train.drop('week_trend', axis = 1)\n",
    "train_y = train.week_trend\n",
    "# 測試樣本再分成目標序列 y 以及因子矩陣 X\n",
    "test_X = test.drop('week_trend', axis = 1)\n",
    "test_y = test.week_trend"
   ]
  },
  {
   "cell_type": "markdown",
   "metadata": {
    "pycharm": {
     "name": "#%% md\n"
    }
   },
   "source": [
    "匯入 sklearn，創造一個決策樹"
   ]
  },
  {
   "cell_type": "code",
   "execution_count": 38,
   "metadata": {
    "pycharm": {
     "name": "#%%\n"
    }
   },
   "outputs": [],
   "source": [
    "# 匯入決策樹分類器\n",
    "from sklearn.tree import DecisionTreeClassifier\n",
    "\n",
    "# 叫出一棵決策樹\n",
    "model = DecisionTreeClassifier(max_depth = 7)"
   ]
  },
  {
   "cell_type": "code",
   "execution_count": 39,
   "metadata": {
    "pycharm": {
     "name": "#%%\n"
    }
   },
   "outputs": [],
   "source": [
    "# 讓 A.I. 學習\n",
    "model.fit(train_X, train_y)\n",
    "\n",
    "# 讓 A.I. 測驗，prediction 存放了 A.I. 根據測試集做出的預測\n",
    "prediction = model.predict(test_X)"
   ]
  },
  {
   "cell_type": "code",
   "execution_count": 40,
   "metadata": {
    "pycharm": {
     "name": "#%%\n"
    }
   },
   "outputs": [],
   "source": [
    "import os\n",
    "os.environ['PATH'] += os.pathsep + 'C:/Program Files/Graphviz/bin/'"
   ]
  },
  {
   "cell_type": "markdown",
   "metadata": {
    "pycharm": {
     "name": "#%% md\n"
    }
   },
   "source": [
    "畫出決策樹"
   ]
  },
  {
   "cell_type": "code",
   "execution_count": 41,
   "metadata": {
    "pycharm": {
     "name": "#%%\n"
    }
   },
   "outputs": [
    {
     "ename": "ModuleNotFoundError",
     "evalue": "No module named 'graphviz'",
     "output_type": "error",
     "traceback": [
      "\u001b[1;31m---------------------------------------------------------------------------\u001b[0m",
      "\u001b[1;31mModuleNotFoundError\u001b[0m                       Traceback (most recent call last)",
      "Input \u001b[1;32mIn [41]\u001b[0m, in \u001b[0;36m<cell line: 2>\u001b[1;34m()\u001b[0m\n\u001b[0;32m      1\u001b[0m \u001b[38;5;28;01mfrom\u001b[39;00m \u001b[38;5;21;01msklearn\u001b[39;00m\u001b[38;5;21;01m.\u001b[39;00m\u001b[38;5;21;01mtree\u001b[39;00m \u001b[38;5;28;01mimport\u001b[39;00m export_graphviz\n\u001b[1;32m----> 2\u001b[0m \u001b[38;5;28;01mimport\u001b[39;00m \u001b[38;5;21;01mgraphviz\u001b[39;00m\n\u001b[0;32m      4\u001b[0m dot_data \u001b[38;5;241m=\u001b[39m export_graphviz(model, out_file \u001b[38;5;241m=\u001b[39m \u001b[38;5;28;01mNone\u001b[39;00m,\n\u001b[0;32m      5\u001b[0m                            feature_names \u001b[38;5;241m=\u001b[39m train_X\u001b[38;5;241m.\u001b[39mcolumns,\n\u001b[0;32m      6\u001b[0m                            filled \u001b[38;5;241m=\u001b[39m \u001b[38;5;28;01mTrue\u001b[39;00m, rounded \u001b[38;5;241m=\u001b[39m \u001b[38;5;28;01mTrue\u001b[39;00m,\n\u001b[0;32m      7\u001b[0m                            class_names \u001b[38;5;241m=\u001b[39m \u001b[38;5;28;01mTrue\u001b[39;00m,\n\u001b[0;32m      8\u001b[0m                            special_characters \u001b[38;5;241m=\u001b[39m \u001b[38;5;28;01mTrue\u001b[39;00m)\n\u001b[0;32m      9\u001b[0m graph \u001b[38;5;241m=\u001b[39m graphviz\u001b[38;5;241m.\u001b[39mSource(dot_data)\n",
      "\u001b[1;31mModuleNotFoundError\u001b[0m: No module named 'graphviz'"
     ]
    }
   ],
   "source": [
    "from sklearn.tree import export_graphviz\n",
    "import graphviz\n",
    "\n",
    "dot_data = export_graphviz(model, out_file = None,\n",
    "                           feature_names = train_X.columns,\n",
    "                           filled = True, rounded = True,\n",
    "                           class_names = True,\n",
    "                           special_characters = True)\n",
    "graph = graphviz.Source(dot_data)\n",
    "graph"
   ]
  },
  {
   "cell_type": "markdown",
   "metadata": {
    "pycharm": {
     "name": "#%% md\n"
    }
   },
   "source": [
    "混淆矩陣分析"
   ]
  },
  {
   "cell_type": "code",
   "execution_count": 42,
   "metadata": {
    "pycharm": {
     "name": "#%%\n"
    }
   },
   "outputs": [
    {
     "data": {
      "text/plain": [
       "array([[171, 160],\n",
       "       [311, 246]], dtype=int64)"
      ]
     },
     "execution_count": 42,
     "metadata": {},
     "output_type": "execute_result"
    }
   ],
   "source": [
    "# 要計算混淆矩陣的話，要從 metrics 裡匯入 confusion_matrix\n",
    "from sklearn.metrics import confusion_matrix\n",
    "\n",
    "# 混淆矩陣\n",
    "confusion_matrix(test_y, prediction)"
   ]
  },
  {
   "cell_type": "code",
   "execution_count": 43,
   "metadata": {
    "pycharm": {
     "name": "#%%\n"
    }
   },
   "outputs": [
    {
     "data": {
      "text/plain": [
       "0.46959459459459457"
      ]
     },
     "execution_count": 43,
     "metadata": {},
     "output_type": "execute_result"
    }
   ],
   "source": [
    "# 準確率\n",
    "model.score(test_X, test_y)"
   ]
  },
  {
   "cell_type": "markdown",
   "metadata": {
    "pycharm": {
     "name": "#%% md\n"
    }
   },
   "source": [
    "ROC / AUC 分析"
   ]
  },
  {
   "cell_type": "code",
   "execution_count": 44,
   "metadata": {
    "pycharm": {
     "name": "#%%\n"
    }
   },
   "outputs": [],
   "source": [
    "# 要計算 AUC 的話，要從 metrics 裡匯入 roc_curve 以及 auc\n",
    "from sklearn.metrics import roc_curve, auc\n",
    "\n",
    "# 計算 ROC 曲線\n",
    "false_positive_rate, true_positive_rate, thresholds = roc_curve(test_y, prediction)"
   ]
  },
  {
   "cell_type": "code",
   "execution_count": 45,
   "metadata": {
    "pycharm": {
     "name": "#%%\n"
    }
   },
   "outputs": [
    {
     "data": {
      "text/plain": [
       "0.47913400988246274"
      ]
     },
     "execution_count": 45,
     "metadata": {},
     "output_type": "execute_result"
    }
   ],
   "source": [
    "# 計算 AUC 面積\n",
    "# 隨機亂猜（AUC = 0.5）\n",
    "auc(false_positive_rate, true_positive_rate)"
   ]
  },
  {
   "cell_type": "markdown",
   "metadata": {
    "pycharm": {
     "name": "#%% md\n"
    }
   },
   "source": [
    "優化: 透過 AUC，決定決策樹深度的最佳參數"
   ]
  },
  {
   "cell_type": "code",
   "execution_count": 46,
   "metadata": {
    "pycharm": {
     "name": "#%%\n"
    }
   },
   "outputs": [],
   "source": [
    "import matplotlib.pyplot as plt\n",
    "\n",
    "# 測試一批深度參數，一般而言深度不太會超過 3x，我們這邊示範 1 到 50 好了\n",
    "depth_parameters = np.arange(1, 50)\n",
    "# 準備兩個容器，一個裝所有參數下的訓練階段 AUC；另一個裝所有參數下的測試階段 AUC\n",
    "train_auc= []\n",
    "test_auc = []\n",
    "# 根據每一個參數跑迴圈\n",
    "for test_depth in depth_parameters:\n",
    "    # 根據該深度參數，創立一個決策樹模型，取名 temp_model\n",
    "    temp_model = DecisionTreeClassifier(max_depth = test_depth)\n",
    "    # 讓 temp_model 根據 train 學習樣本進行學習\n",
    "    temp_model.fit(train_X, train_y)\n",
    "    # 讓學習後的 temp_model 分別根據 train 學習樣本以及 test 測試樣本進行測驗\n",
    "    train_predictions = temp_model.predict(train_X)\n",
    "    test_predictions = temp_model.predict(test_X)\n",
    "    # 計算學習樣本的 AUC，並且紀錄起來\n",
    "    false_positive_rate, true_positive_rate, thresholds = roc_curve(train_y, train_predictions)\n",
    "    auc_area = auc(false_positive_rate, true_positive_rate)\n",
    "    train_auc.append(auc_area)\n",
    "    # 計算測試樣本的 AUC，並且紀錄起來\n",
    "    false_positive_rate, true_positive_rate, thresholds = roc_curve(test_y, test_predictions)\n",
    "    auc_area = auc(false_positive_rate, true_positive_rate)\n",
    "    test_auc.append(auc_area)"
   ]
  },
  {
   "cell_type": "code",
   "execution_count": 47,
   "metadata": {
    "pycharm": {
     "name": "#%%\n"
    }
   },
   "outputs": [
    {
     "data": {
      "image/png": "[encoded data removed]",
      "text/plain": [
       "<Figure size 1008x720 with 1 Axes>"
      ]
     },
     "metadata": {
      "needs_background": "light"
     },
     "output_type": "display_data"
    }
   ],
   "source": [
    "# 繪圖視覺化\n",
    "plt.figure(figsize = (14,10))\n",
    "plt.plot(depth_parameters, train_auc, 'b', label = 'Train AUC')\n",
    "plt.plot(depth_parameters, test_auc, 'r', label = 'Test AUC')\n",
    "plt.ylabel('AUC')\n",
    "plt.xlabel('depth parameter')\n",
    "plt.show()"
   ]
  },
  {
   "cell_type": "markdown",
   "metadata": {
    "pycharm": {
     "name": "#%% md\n"
    }
   },
   "source": [
    "回測績效分析"
   ]
  },
  {
   "cell_type": "code",
   "execution_count": 48,
   "metadata": {
    "pycharm": {
     "name": "#%%\n"
    }
   },
   "outputs": [],
   "source": [
    "# test 是我們在切割樣本的時候，切出來的測試樣本，包含了價量資訊，我們首先將 A.I. 在這期間的預測結果 prediction 放進去\n",
    "test['prediction'] = prediction\n",
    "\n",
    "# 這次的二元分類問題很單純，若直接把 prediction 位移一天，剛好就會是模擬買賣的狀況：\n",
    "# T-1 日的預測為「跌」而 T 日的預測為「漲」，則 T+1 日開盤『買進』\n",
    "# T-1 日的預測為「漲」而 T 日的預測為「跌」，則 T+1 日開盤『賣出』\n",
    "# 連續預測「漲」，則『持續持有』\n",
    "# 連續預測「跌」，則『空手等待』\n",
    "test['status'] = test.prediction.shift(1).fillna(0)\n",
    "\n",
    "# 所以什麼時候要買股票就很好找了：status 從 0 變成 1 的時候，1 的那天的開盤買進（因為 status 已經位移一天了喔）\n",
    "# 從 prediction 的角度解釋就是：當 A.I. 的預測從 0 變成 1 的時候，1 的隔天的開盤買進\n",
    "test['buy_cost'] = test.open[np.where((test.status == 1) * (test.status.shift(1) == 0))[0]]\n",
    "# 同理，賣股票也很好找：status 從 1 變成 0 的時候，0 的那天的開盤賣出\n",
    "test['sell_cost'] = test.open[np.where((test.status == 0) * (test.status.shift(1) == 1))[0]]\n",
    "# 把缺值補上 0\n",
    "test = test.fillna(0)\n",
    "\n",
    "# 來算算每次買賣的報酬率吧！\n",
    "# 一買一賣是剛好對應的，所以把買的成本以及賣的價格這兩欄的數字取出，就能輕易的算出交易報酬率\n",
    "\n",
    "buy_cost = np.array(test.buy_cost[test.buy_cost != 0])\n",
    "sell_price = np.array(test.sell_cost[test.sell_cost != 0])\n",
    "\n",
    "# 但是回測的最後一天，有時候會發現還有持股尚未賣出喔！由於還沒賣就不能當作一次完整的交易，\n",
    "# 所以最後一次的買進，我們先忽略\n",
    "if len(buy_cost) > len(sell_price) :\n",
    "    buy_cost = buy_cost[:-1]\n",
    "\n",
    "trade_return = sell_price / buy_cost - 1\n",
    "\n",
    "# 交易都會有交易成本，例如台股每次一買一賣約產生 0.6% 的交易成本。\n",
    "# 買賣 SPY ETF 也會有交易成本，管理費用約 0.1%，券商手續費因人而異，但近年來此費用逐漸趨近於 0，這裡就假設 0.1% 手續費好了\n",
    "# 因此這裡額外計算一個把每次交易報酬率扣除總交易成本約 0.2% 的淨報酬率\n",
    "fee = 0.001\n",
    "net_trade_return = trade_return - fee\n",
    "\n",
    "# 把報酬率都放進表格吧！\n",
    "test['trade_ret'] = 0\n",
    "test['net_trade_ret'] = 0\n",
    "sell_dates = test.sell_cost[test.sell_cost != 0].index\n",
    "test.loc[sell_dates, 'trade_ret'] = trade_return\n",
    "test.loc[sell_dates, 'net_trade_ret'] = net_trade_return\n",
    "\n",
    "# 如果還想要畫出績效走勢圖，那就要把策略的報酬率也算出來，由於我們不論買賣都是以開盤價進行，所以策略的報酬率會使用開盤價計算\n",
    "test['open_ret'] = test.open / test.open.shift(1) - 1\n",
    "test['strategy_ret'] = test.status.shift(1) * test.open_ret\n",
    "test['strategy_net_ret'] = test.strategy_ret\n",
    "test.loc[sell_dates, 'strategy_net_ret'] = test.loc[sell_dates, 'strategy_net_ret'] - fee\n",
    "test = test.fillna(0)\n",
    "\n",
    "# 計算出績效走勢圖\n",
    "test['buy_and_hold_equity'] = (test.open_ret + 1).cumprod()\n",
    "test['strategy_equity'] = (test.strategy_ret + 1).cumprod()\n",
    "test['strategy_net_equity'] = (test.strategy_net_ret + 1).cumprod()\n",
    "\n",
    "# 計算出一些有用的策略績效數字吧！\n",
    "trade_count = len(sell_dates)\n",
    "trade_count_per_year = trade_count / (len(test)/252)\n",
    "win_rate = (net_trade_return > 0).sum() / trade_count\n",
    "profit_factor = net_trade_return[net_trade_return > 0].sum() / abs(net_trade_return[net_trade_return < 0].sum())\n",
    "mean_net_return = np.mean(net_trade_return)\n",
    "acc_ret = test.strategy_net_equity[-1] - 1\n",
    "strategy_ear = test.strategy_net_equity[-1] ** (252/len(test)) - 1\n",
    "strategy_std = test.strategy_net_ret.std() * (252 ** 0.5)\n",
    "strategy_sharpe = (strategy_ear - 0.01) / strategy_std"
   ]
  },
  {
   "cell_type": "code",
   "execution_count": 49,
   "metadata": {
    "pycharm": {
     "name": "#%%\n"
    }
   },
   "outputs": [
    {
     "data": {
      "text/plain": [
       "<AxesSubplot:xlabel='key_0'>"
      ]
     },
     "execution_count": 49,
     "metadata": {},
     "output_type": "execute_result"
    },
    {
     "data": {
      "image/png": "[encoded data removed]",
      "text/plain": [
       "<Figure size 432x288 with 1 Axes>"
      ]
     },
     "metadata": {
      "needs_background": "light"
     },
     "output_type": "display_data"
    }
   ],
   "source": [
    "# 也畫出績效走勢看看吧！\n",
    "test.buy_and_hold_equity.plot()\n",
    "test.strategy_equity.plot()\n",
    "test.strategy_net_equity.plot()"
   ]
  },
  {
   "cell_type": "markdown",
   "metadata": {
    "pycharm": {
     "name": "#%% md\n"
    }
   },
   "source": [
    "存 / 取 A.I. 模型\n",
    "只需要把每一天收盤後的最新資料，整理成測試樣本的樣子，叫做 future_X好了。然後再用model.predict(future_X) 就可了看到他回傳最新的預測了！"
   ]
  },
  {
   "cell_type": "code",
   "execution_count": 50,
   "metadata": {
    "pycharm": {
     "name": "#%%\n"
    }
   },
   "outputs": [],
   "source": [
    "import pickle\n",
    "\n",
    "# 儲存模型\n",
    "filename = 'Decision_Tree_model_001.sav'\n",
    "pickle.dump(model, open(filename, 'wb'))\n",
    "\n",
    "# 取出模型\n",
    "filename = 'Decision_Tree_model_001.sav'\n",
    "model = pickle.load(open(filename, 'rb'))"
   ]
  },
  {
   "cell_type": "markdown",
   "metadata": {
    "pycharm": {
     "name": "#%% md\n"
    }
   },
   "source": []
  }
 ],
 "metadata": {
  "kernelspec": {
   "display_name": "Python 3 (ipykernel)",
   "language": "python",
   "name": "python3"
  },
  "language_info": {
   "codemirror_mode": {
    "name": "ipython",
    "version": 3
   },
   "file_extension": ".py",
   "mimetype": "text/x-python",
   "name": "python",
   "nbconvert_exporter": "python",
   "pygments_lexer": "ipython3",
   "version": "3.9.12"
  }
 },
 "nbformat": 4,
 "nbformat_minor": 1
}
