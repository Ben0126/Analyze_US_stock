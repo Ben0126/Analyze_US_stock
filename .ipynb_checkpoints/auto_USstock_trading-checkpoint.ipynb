{
 "cells": [
  {
   "cell_type": "markdown",
   "metadata": {
    "pycharm": {
     "name": "#%% md\n"
    }
   },
   "source": [
    "使用Python 連接IB api 進行交易"
   ]
  },
  {
   "cell_type": "markdown",
   "metadata": {
    "pycharm": {
     "name": "#%% md\n"
    }
   },
   "source": [
    "透過 Python 連線 TWS"
   ]
  },
  {
   "cell_type": "code",
   "execution_count": 1,
   "metadata": {
    "pycharm": {
     "name": "#%%\n"
    }
   },
   "outputs": [
    {
     "data": {
      "text/plain": [
       "<IB connected to 127.0.0.1:7497 clientId=123>"
      ]
     },
     "execution_count": 1,
     "metadata": {},
     "output_type": "execute_result"
    }
   ],
   "source": [
    "# 匯入模組\n",
    "from ib_insync import *\n",
    "util.startLoop() # 開啟 Socket 線程\n",
    "ib = IB()\n",
    "ib.connect('127.0.0.1', 7497, clientId=123)"
   ]
  },
  {
   "cell_type": "markdown",
   "metadata": {
    "pycharm": {
     "name": "#%% md\n"
    }
   },
   "source": [
    "透過 Python 了解 IB 戶頭裡的帳務資訊"
   ]
  },
  {
   "cell_type": "code",
   "execution_count": 3,
   "metadata": {
    "pycharm": {
     "name": "#%%\n"
    }
   },
   "outputs": [
    {
     "data": {
      "text/plain": [
       "account        DU229333\n",
       "value        1040664.62\n",
       "currency            USD\n",
       "modelCode              \n",
       "Name: NetLiquidation, dtype: object"
      ]
     },
     "execution_count": 3,
     "metadata": {},
     "output_type": "execute_result"
    }
   ],
   "source": [
    "import pandas as pd\n",
    "# 先取得帳戶總覽，'DU228378'是我的 demo 帳號代碼，記得要改成你的 demo 帳號代碼，在 TWS 的右上方尋找\n",
    "account_summary = ib.accountSummary(account='DU229333')\n",
    "# 再透過 pandas 轉換為 DataFrame\n",
    "account_summary_df = pd.DataFrame(account_summary).set_index('tag')\n",
    "# 取得 Cash 現金的數字\n",
    "account_summary_df.loc['AvailableFunds']\n",
    "# 取得 Securities Gross Position Value 持有中資產的帳面價值\n",
    "account_summary_df.loc['GrossPositionValue']\n",
    "# 取得 Net Liquidation Value 帳戶清算的總價值\n",
    "account_summary_df.loc['NetLiquidation']"
   ]
  },
  {
   "cell_type": "markdown",
   "metadata": {
    "pycharm": {
     "name": "#%% md\n"
    }
   },
   "source": [
    "透過 Python 送出委託單至 IB 進行下單交易"
   ]
  },
  {
   "cell_type": "markdown",
   "metadata": {
    "pycharm": {
     "name": "#%% md\n"
    }
   },
   "source": [
    "例1:「用市價買進 50 股 AMZN」"
   ]
  },
  {
   "cell_type": "code",
   "execution_count": 4,
   "metadata": {
    "pycharm": {
     "name": "#%%\n"
    }
   },
   "outputs": [
    {
     "data": {
      "text/plain": [
       "Trade(contract=Contract(secType='STK', symbol='AMZN', exchange='SMART', currency='USD'), order=Order(orderId=4, clientId=123, action='BUY', totalQuantity=50, orderType='MKT'), orderStatus=OrderStatus(orderId=4, status='PendingSubmit', filled=0.0, remaining=0.0, avgFillPrice=0.0, permId=0, parentId=0, lastFillPrice=0.0, clientId=0, whyHeld='', mktCapPrice=0.0), fills=[], log=[TradeLogEntry(time=datetime.datetime(2022, 8, 19, 3, 14, 53, 923279, tzinfo=datetime.timezone.utc), status='PendingSubmit', message='', errorCode=0)])"
      ]
     },
     "execution_count": 4,
     "metadata": {},
     "output_type": "execute_result"
    }
   ],
   "source": [
    "# 定義 contract 合約\n",
    "contract = Contract(\n",
    "    secType='STK',      # 買進的是「股票」，就鍵入「STK」\n",
    "    symbol='AMZN',      # 鍵入股票代碼\n",
    "    exchange='SMART',   # SMART 指的是 TWS 的智能路由，\n",
    "    # 它會根據以下條件找出最佳的交易所\n",
    "    # 1.交易所成本最小化\n",
    "    # 2.執行機率最大化\n",
    "    currency='USD'      # 鍵入貨幣單位\n",
    ")\n",
    "# 定義 order 委託單\n",
    "order = Order(\n",
    "    action='BUY',       # 買進的話就是「BUY」，賣出/放空則是「SELL」\n",
    "    totalQuantity=50,   # 這裡要鍵入的是「股」數喔！\n",
    "    orderType='MKT'     # 例1下的是「市價單」，參數就是「MKT」\n",
    ")\n",
    "# 向 TWS 發送委託單！\n",
    "ib.placeOrder(contract, order)"
   ]
  },
  {
   "cell_type": "markdown",
   "metadata": {
    "pycharm": {
     "name": "#%% md\n"
    }
   },
   "source": [
    "♦ 例2:「用限價 328 買進 100 股 QQQ」"
   ]
  },
  {
   "cell_type": "code",
   "execution_count": 6,
   "metadata": {
    "pycharm": {
     "name": "#%%\n"
    }
   },
   "outputs": [
    {
     "data": {
      "text/plain": [
       "Trade(contract=Contract(secType='STK', symbol='QQQ', exchange='SMART', currency='USD'), order=Order(orderId=6, clientId=123, action='BUY', totalQuantity=100, orderType='LMT', lmtPrice=328), orderStatus=OrderStatus(orderId=6, status='PendingSubmit', filled=0.0, remaining=0.0, avgFillPrice=0.0, permId=0, parentId=0, lastFillPrice=0.0, clientId=0, whyHeld='', mktCapPrice=0.0), fills=[], log=[TradeLogEntry(time=datetime.datetime(2022, 8, 19, 3, 18, 14, 367560, tzinfo=datetime.timezone.utc), status='PendingSubmit', message='', errorCode=0)])"
      ]
     },
     "execution_count": 6,
     "metadata": {},
     "output_type": "execute_result"
    }
   ],
   "source": [
    "# 定義 contract 合約\n",
    "contract = Contract(\n",
    "    secType='STK',      # 買進「ETF」的話也是鍵入「STK」\n",
    "    symbol='QQQ',       # 鍵入 ETF 代碼\n",
    "    exchange='SMART',\n",
    "    currency='USD'\n",
    ")\n",
    "# 定義 order 委託單\n",
    "order = Order(\n",
    "    action='BUY',\n",
    "    totalQuantity=100,  # 這裡要鍵入的是「股」數喔！\n",
    "    orderType='LMT',    # 例2下的是「限價單」，參數就是「LMT」\n",
    "    lmtPrice=328,       # ★ 限價單會多一個參數，設定「掛單價格」★\n",
    ")\n",
    "# 向 TWS 發送委託單！\n",
    "ib.placeOrder(contract, order)"
   ]
  },
  {
   "cell_type": "markdown",
   "metadata": {
    "pycharm": {
     "name": "#%% md\n"
    }
   },
   "source": [
    "♦ 例3: 確認成交狀況"
   ]
  },
  {
   "cell_type": "code",
   "execution_count": 7,
   "metadata": {
    "pycharm": {
     "name": "#%%\n"
    }
   },
   "outputs": [
    {
     "data": {
      "text/plain": [
       "[Execution(execId='00012ec5.62ff6e8f.01.01', time=datetime.datetime(2022, 8, 19, 3, 15, 11, tzinfo=datetime.timezone.utc), acctNumber='DU229333', exchange='ISLAND', side='BOT', shares=50.0, price=142.1, permId=995032581, clientId=123, orderId=4, liquidation=0, cumQty=50.0, avgPrice=142.1, orderRef='', evRule='', evMultiplier=0.0, modelCode='', lastLiquidity=1)]"
      ]
     },
     "execution_count": 7,
     "metadata": {},
     "output_type": "execute_result"
    }
   ],
   "source": [
    "# 透過這個函數，可以確認交易執行的情況\n",
    "# 如果所有委託單都沒有成交，就會回傳一個空的 list\n",
    "ib.executions()"
   ]
  },
  {
   "cell_type": "markdown",
   "metadata": {
    "pycharm": {
     "name": "#%% md\n"
    }
   },
   "source": [
    "♦ 例4: 掌握交易委託的資訊"
   ]
  },
  {
   "cell_type": "code",
   "execution_count": 11,
   "metadata": {
    "pycharm": {
     "name": "#%%\n"
    }
   },
   "outputs": [
    {
     "data": {
      "text/html": [
       "<div>\n",
       "<style scoped>\n",
       "    .dataframe tbody tr th:only-of-type {\n",
       "        vertical-align: middle;\n",
       "    }\n",
       "\n",
       "    .dataframe tbody tr th {\n",
       "        vertical-align: top;\n",
       "    }\n",
       "\n",
       "    .dataframe thead th {\n",
       "        text-align: right;\n",
       "    }\n",
       "</style>\n",
       "<table border=\"1\" class=\"dataframe\">\n",
       "  <thead>\n",
       "    <tr style=\"text-align: right;\">\n",
       "      <th></th>\n",
       "      <th>orderId</th>\n",
       "      <th>action</th>\n",
       "      <th>totalQuantity</th>\n",
       "      <th>orderType</th>\n",
       "      <th>lmtPrice</th>\n",
       "      <th>secType</th>\n",
       "      <th>symbol</th>\n",
       "    </tr>\n",
       "  </thead>\n",
       "  <tbody>\n",
       "    <tr>\n",
       "      <th>0</th>\n",
       "      <td>6</td>\n",
       "      <td>BUY</td>\n",
       "      <td>100.0</td>\n",
       "      <td>LMT</td>\n",
       "      <td>328.0</td>\n",
       "      <td>STK</td>\n",
       "      <td>QQQ</td>\n",
       "    </tr>\n",
       "  </tbody>\n",
       "</table>\n",
       "</div>"
      ],
      "text/plain": [
       "   orderId action  totalQuantity orderType  lmtPrice secType symbol\n",
       "0        6    BUY          100.0       LMT     328.0     STK    QQQ"
      ]
     },
     "execution_count": 11,
     "metadata": {},
     "output_type": "execute_result"
    }
   ],
   "source": [
    "# 透過這個函數，可以取得未執行完畢的交易委託\n",
    "open_trades = ib.openTrades()\n",
    "# 檢視了一下 open_trades 會發現資訊量過多，各位針對自己所需去取值即可。這裡簡單做個示範，整理出一個記載重點資訊的 DataFrame\n",
    "# 寫函數，從 open_trades 中的每一筆物件取值\n",
    "def open_trade_info(trade_object):\n",
    "    return {\n",
    "        'orderId': trade_object.order.orderId,\n",
    "        'action': trade_object.order.action,\n",
    "        'totalQuantity': trade_object.order.totalQuantity,\n",
    "        'orderType': trade_object.order.orderType,\n",
    "        'lmtPrice': trade_object.order.lmtPrice,\n",
    "        'secType': trade_object.contract.secType,\n",
    "        'symbol': trade_object.contract.symbol\n",
    "    }\n",
    "# 整理成 DataFrame\n",
    "open_trades_df = pd.DataFrame(list(map(lambda x: open_trade_info(x), open_trades)))\n",
    "open_trades_df"
   ]
  },
  {
   "cell_type": "markdown",
   "metadata": {
    "pycharm": {
     "name": "#%% md\n"
    }
   },
   "source": [
    "♦ 例5:「修改」一筆委託單"
   ]
  },
  {
   "cell_type": "markdown",
   "metadata": {
    "pycharm": {
     "name": "#%% md\n"
    }
   },
   "source": [
    "假設要修改剩下來的那筆委託單:\n",
    "→ QQQ 買 80 股就好，不買 100 股了\n",
    "→ 限價股價也從 328 改成 329 好了"
   ]
  },
  {
   "cell_type": "code",
   "execution_count": 12,
   "metadata": {
    "pycharm": {
     "name": "#%%\n"
    }
   },
   "outputs": [
    {
     "data": {
      "text/plain": [
       "Trade(contract=Contract(secType='STK', symbol='QQQ', exchange='SMART', currency='USD'), order=Order(orderId=6, clientId=123, permId=995032590, action='BUY', totalQuantity=100.0, orderType='LMT', lmtPrice=328.0, auxPrice=0.0), orderStatus=OrderStatus(orderId=6, status='Submitted', filled=0.0, remaining=100.0, avgFillPrice=0.0, permId=995032590, parentId=0, lastFillPrice=0.0, clientId=123, whyHeld='', mktCapPrice=0.0), fills=[], log=[TradeLogEntry(time=datetime.datetime(2022, 8, 19, 3, 18, 14, 367560, tzinfo=datetime.timezone.utc), status='PendingSubmit', message='', errorCode=0), TradeLogEntry(time=datetime.datetime(2022, 8, 19, 3, 18, 14, 445560, tzinfo=datetime.timezone.utc), status='PreSubmitted', message='', errorCode=0), TradeLogEntry(time=datetime.datetime(2022, 8, 19, 3, 18, 14, 651592, tzinfo=datetime.timezone.utc), status='Submitted', message='', errorCode=0), TradeLogEntry(time=datetime.datetime(2022, 8, 19, 3, 23, 52, 776278, tzinfo=datetime.timezone.utc), status='Submitted', message='Modify', errorCode=0)])"
      ]
     },
     "execution_count": 12,
     "metadata": {},
     "output_type": "execute_result"
    }
   ],
   "source": [
    "# 首先我們需要辨識出要修的這筆委託單的專屬代號\n",
    "loc_index = open_trades_df.index[open_trades_df.symbol == 'QQQ'][0]\n",
    "modify_id = open_trades_df.loc[loc_index, 'orderId']\n",
    "# 跟前面一樣定義 contract 以及 order，但這次 order 裡要增加 orderId 這參數\n",
    "contract = Contract(\n",
    "    secType='STK',\n",
    "    symbol='QQQ',\n",
    "    exchange='SMART',\n",
    "    currency='USD'\n",
    ")\n",
    "order = Order(\n",
    "    orderId=modify_id,  # ★ 鍵入剛剛找到的專屬代號 ★\n",
    "    action='BUY',\n",
    "    totalQuantity=80,   # 從 100 股修改成 80 股\n",
    "    orderType='LMT',\n",
    "    lmtPrice=329,       # 從限價 370 修改成 375\n",
    ")\n",
    "# 向 TWS 發送，就能對正在掛著的委託單進行修改了！\n",
    "ib.placeOrder(contract, order)"
   ]
  },
  {
   "cell_type": "markdown",
   "metadata": {
    "pycharm": {
     "name": "#%% md\n"
    }
   },
   "source": [
    "♦ 例6:「取消」一筆委託單"
   ]
  },
  {
   "cell_type": "code",
   "execution_count": null,
   "metadata": {
    "pycharm": {
     "is_executing": true,
     "name": "#%%\n"
    }
   },
   "outputs": [],
   "source": [
    "# 記得要定期更新 open_trades_df（見例4）\n",
    "# 一樣要先辨識出該筆委託單的專屬代號\n",
    "cancel_id = open_trades_df\n",
    "# 定義 order 委託單，這次只要指出要取消委託單的專屬代號即可\n",
    "order = Order(\n",
    "    orderId=cancel_id   # ★ 鍵入該筆委託單的專屬代號 ★\n",
    ")\n",
    "# 向 TWS 發送 cancelOrder，取消掉正在掛著的委託單！\n",
    "ib.cancelOrder(order)"
   ]
  },
  {
   "cell_type": "markdown",
   "metadata": {
    "pycharm": {
     "name": "#%% md\n"
    }
   },
   "source": [
    "♦ 例7: 更新取得投資組合的資訊"
   ]
  },
  {
   "cell_type": "code",
   "execution_count": 15,
   "metadata": {
    "pycharm": {
     "name": "#%%\n"
    }
   },
   "outputs": [
    {
     "data": {
      "text/html": [
       "<div>\n",
       "<style scoped>\n",
       "    .dataframe tbody tr th:only-of-type {\n",
       "        vertical-align: middle;\n",
       "    }\n",
       "\n",
       "    .dataframe tbody tr th {\n",
       "        vertical-align: top;\n",
       "    }\n",
       "\n",
       "    .dataframe thead th {\n",
       "        text-align: right;\n",
       "    }\n",
       "</style>\n",
       "<table border=\"1\" class=\"dataframe\">\n",
       "  <thead>\n",
       "    <tr style=\"text-align: right;\">\n",
       "      <th></th>\n",
       "      <th>symbol</th>\n",
       "      <th>primaryExchange</th>\n",
       "      <th>currency</th>\n",
       "      <th>position</th>\n",
       "      <th>marketPrice</th>\n",
       "      <th>marketValue</th>\n",
       "      <th>averageCost</th>\n",
       "      <th>unrealizedPNL</th>\n",
       "      <th>realizedPNL</th>\n",
       "    </tr>\n",
       "  </thead>\n",
       "  <tbody>\n",
       "    <tr>\n",
       "      <th>0</th>\n",
       "      <td>GBP</td>\n",
       "      <td>IDEALPRO</td>\n",
       "      <td>USD</td>\n",
       "      <td>-54.0</td>\n",
       "      <td>1.192050</td>\n",
       "      <td>-64.37</td>\n",
       "      <td>1.329446</td>\n",
       "      <td>7.42</td>\n",
       "      <td>0.0</td>\n",
       "    </tr>\n",
       "    <tr>\n",
       "      <th>1</th>\n",
       "      <td>AMZN</td>\n",
       "      <td>NASDAQ</td>\n",
       "      <td>USD</td>\n",
       "      <td>50.0</td>\n",
       "      <td>142.070007</td>\n",
       "      <td>7103.50</td>\n",
       "      <td>142.120000</td>\n",
       "      <td>-2.50</td>\n",
       "      <td>0.0</td>\n",
       "    </tr>\n",
       "    <tr>\n",
       "      <th>2</th>\n",
       "      <td>QQQ</td>\n",
       "      <td>NASDAQ</td>\n",
       "      <td>USD</td>\n",
       "      <td>160.0</td>\n",
       "      <td>329.299988</td>\n",
       "      <td>52688.00</td>\n",
       "      <td>328.502500</td>\n",
       "      <td>127.60</td>\n",
       "      <td>0.0</td>\n",
       "    </tr>\n",
       "  </tbody>\n",
       "</table>\n",
       "</div>"
      ],
      "text/plain": [
       "  symbol primaryExchange currency  position  marketPrice  marketValue  \\\n",
       "0    GBP        IDEALPRO      USD     -54.0     1.192050       -64.37   \n",
       "1   AMZN          NASDAQ      USD      50.0   142.070007      7103.50   \n",
       "2    QQQ          NASDAQ      USD     160.0   329.299988     52688.00   \n",
       "\n",
       "   averageCost  unrealizedPNL  realizedPNL  \n",
       "0     1.329446           7.42          0.0  \n",
       "1   142.120000          -2.50          0.0  \n",
       "2   328.502500         127.60          0.0  "
      ]
     },
     "execution_count": 15,
     "metadata": {},
     "output_type": "execute_result"
    }
   ],
   "source": [
    "# 透過這個函數，可以輕鬆取得投資組合的資訊\n",
    "portfolio_data = ib.portfolio()\n",
    "# 跟例4 非常相似，我們針對自己需求，將 portfolio_data 的資訊整理成 DataFrame\n",
    "# 寫函數，從 portfolio_data 中的每一筆物件取值\n",
    "def portfolio_info(asset_object):\n",
    "    return {\n",
    "        'symbol': asset_object.contract.symbol,\n",
    "        'primaryExchange': asset_object.contract.primaryExchange,\n",
    "        'currency': asset_object.contract.currency,\n",
    "        'position': asset_object.position,\n",
    "        'marketPrice': asset_object.marketPrice,\n",
    "        'marketValue': asset_object.marketValue,\n",
    "        'averageCost': asset_object.averageCost,\n",
    "        'unrealizedPNL': asset_object.unrealizedPNL,\n",
    "        'realizedPNL': asset_object.realizedPNL\n",
    "    }\n",
    "# 整理成 DataFrame\n",
    "portfolio_data_df = pd.DataFrame(list(map(lambda x: portfolio_info(x), portfolio_data)))\n",
    "portfolio_data_df"
   ]
  },
  {
   "cell_type": "code",
   "execution_count": null,
   "metadata": {
    "pycharm": {
     "name": "#%%\n"
    }
   },
   "outputs": [],
   "source": []
  }
 ],
 "metadata": {
  "kernelspec": {
   "display_name": "Python 3 (ipykernel)",
   "language": "python",
   "name": "python3"
  },
  "language_info": {
   "codemirror_mode": {
    "name": "ipython",
    "version": 3
   },
   "file_extension": ".py",
   "mimetype": "text/x-python",
   "name": "python",
   "nbconvert_exporter": "python",
   "pygments_lexer": "ipython3",
   "version": "3.9.12"
  }
 },
 "nbformat": 4,
 "nbformat_minor": 1
}
